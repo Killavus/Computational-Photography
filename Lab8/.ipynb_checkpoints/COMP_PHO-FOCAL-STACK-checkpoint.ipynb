{
 "cells": [
  {
   "cell_type": "code",
   "execution_count": 15,
   "metadata": {
    "collapsed": false
   },
   "outputs": [
    {
     "name": "stdout",
     "output_type": "stream",
     "text": [
      "Populating the interactive namespace from numpy and matplotlib\n"
     ]
    }
   ],
   "source": [
    "%pylab inline\n",
    "pylab.rcParams['figure.figsize'] = (20, 20)\n",
    "from scipy import ndimage\n",
    "\n",
    "import imageio\n",
    "import numpy as np\n",
    "from scipy import ndimage"
   ]
  },
  {
   "cell_type": "code",
   "execution_count": 14,
   "metadata": {
    "collapsed": false
   },
   "outputs": [],
   "source": [
    "class LightFieldImage:\n",
    "    def __init__(self, SuperImagePath, W, H):\n",
    "        self.superImage = imageio.imread(SuperImagePath)\n",
    "        self.lightFieldDimension = (W, H)\n",
    "    \n",
    "    def LightFieldImages(self):\n",
    "        lightFieldM, lightFieldN = self.lightFieldDimension\n",
    "        superImageH, superImageW, _ = self.superImage.shape\n",
    "        lightFieldH = superImageH / lightFieldN\n",
    "        lightFieldW = superImageW / lightFieldM\n",
    "        \n",
    "        Images = np.zeros((lightFieldN, lightFieldM, lightFieldH, lightFieldW, 3), np.uint8)        \n",
    "        \n",
    "        for y in range(lightFieldN):\n",
    "            for x in range(lightFieldM):\n",
    "                subplot(lightFieldN, lightFieldM, y * lightFieldN + x + 1)\n",
    "                YStart, YEnd = y * lightFieldH, (y + 1) * lightFieldH\n",
    "                XStart, XEnd = x * lightFieldW, (x + 1) * lightFieldW\n",
    "                Images[y, x] = self.superImage[YStart:YEnd, XStart:XEnd]\n",
    "        return Images\n",
    "                \n",
    "    def CreateApertureView(self):\n",
    "        superImageH, superImageW, _ = self.superImage.shape\n",
    "        lightFieldM, lightFieldN = self.lightFieldDimension\n",
    "        superImageH, superImageW, _ = self.superImage.shape\n",
    "        lightFieldH = superImageH / lightFieldN\n",
    "        lightFieldW = superImageW / lightFieldM\n",
    "        \n",
    "        View = np.zeros_like(self.superImage)\n",
    "        \n",
    "        SImXs = np.tile(np.arange(0, superImageW - lightFieldW + 1, lightFieldW), lightFieldM)\n",
    "        SImYs = np.repeat(np.arange(0, superImageH - lightFieldH + 1, lightFieldH), lightFieldN)\n",
    "        \n",
    "        for Y in range(lightFieldH):\n",
    "            for X in range(lightFieldW):\n",
    "                VYStart, VYEnd = (Y * lightFieldN), ((Y + 1) * lightFieldN)\n",
    "                VXStart, VXEnd = (X * lightFieldM), ((X + 1) * lightFieldM)\n",
    "                \n",
    "                DataSlice = self.superImage[SImYs + Y, SImXs + X]\n",
    "                View[VYStart:VYEnd,VXStart:VXEnd, :] = DataSlice.reshape(lightFieldN, lightFieldM, 3)                \n",
    "        \n",
    "        self.apertureView = View\n",
    "        return View\n",
    "    \n",
    "    def FocalStack(Shift)\n",
    "    \n",
    "    def PlotApertureView(self):\n",
    "        imshow(self.apertureView)\n",
    "        \n",
    "    def SaveApertureView(self, fName):\n",
    "        imageio.imsave(fName, self.apertureView)\n",
    "        \n",
    "    def EpipolarHorizontalSlice(self, H):\n",
    "        superImageW = self.superImage.shape[1]\n",
    "        lightFieldM = self.lightFieldDimension[0]\n",
    "        lightFieldW = superImageW / lightFieldM\n",
    "        \n",
    "        SliceStartXs = np.arange(0, superImageW, lightFieldW)\n",
    "        Epipolar = np.zeros((lightFieldM, lightFieldW, 3), np.uint8)\n",
    "        \n",
    "        for I in range(len(SliceStartXs)):\n",
    "            Epipolar[I] = self.superImage[H, SliceStartXs[I]:SliceStartXs[I] + lightFieldW]\n",
    "            \n",
    "        return Epipolar\n",
    "\n",
    "    def EpipolarVerticalSlice(self, W):\n",
    "        superImageH = self.superImage.shape[0]\n",
    "        lightFieldN = self.lightFieldDimension[1]\n",
    "        lightFieldH = superImageH / lightFieldN\n",
    "        \n",
    "        SliceStartYs = np.arange(0, superImageH , lightFieldH)\n",
    "        Epipolar = np.zeros((lightFieldH, lightFieldN, 3), np.uint8)\n",
    "        \n",
    "        for I in range(len(SliceStartYs)):\n",
    "            Epipolar[:, I] = self.superImage[SliceStartYs[I]:SliceStartYs[I] + lightFieldH, W]\n",
    "            \n",
    "        return Epipolar\n",
    "    \n",
    "    def FocalStack(self, shift, radius):\n",
    "        Images = self.LightFieldImages()\n",
    "        \n",
    "        lightFieldN, lightFieldM, lightFieldH, lightFieldW, _ = Images.shape\n",
    "        centerN = lightFieldN / 2\n",
    "        centerM = lightFieldM / 2\n",
    "        \n",
    "        for n in range(lightFieldN):\n",
    "            for m in range(lightFieldM):\n",
    "                translateN, translateM = shift * (centerN - n), shift * (centerM - m)\n",
    "                Images[n, m] = ndimage.interpolate.shift(Images[n, m], (translateN, translateM, 0), order=1)\n",
    "                \n",
    "        StackedImage = np.zeros((lightFieldH, lightFieldW, 3), np.uint8)\n",
    "        \n",
    "        for i in range(centerN-radius, centerN+radius+1):\n",
    "            for j in range(centerM-radius, centerM+radius+1):\n",
    "                StackedImage += Images[i, j]\n",
    "        \n",
    "        StackedImage /= float(len(range(centerM-radius, centerM+radius+1)) + len(range(centerN-radius, centerN+radius+1)))\n",
    "        \n",
    "        return StackedImage\n",
    "        \n",
    "View = LightFieldImage('./data/9x9/matrioska.jpg', 9, 9)"
   ]
  },
  {
   "cell_type": "code",
   "execution_count": 12,
   "metadata": {
    "collapsed": false
   },
   "outputs": [
    {
     "ename": "KeyboardInterrupt",
     "evalue": "",
     "output_type": "error",
     "traceback": [
      "\u001b[0;31m---------------------------------------------------------------------------\u001b[0m",
      "\u001b[0;31mKeyboardInterrupt\u001b[0m                         Traceback (most recent call last)",
      "\u001b[0;32m<ipython-input-12-564f75b54503>\u001b[0m in \u001b[0;36m<module>\u001b[0;34m()\u001b[0m\n\u001b[1;32m     33\u001b[0m                 \u001b[0mtw\u001b[0m\u001b[0;34m,\u001b[0m \u001b[0mth\u001b[0m \u001b[0;34m=\u001b[0m \u001b[0mdw\u001b[0m \u001b[0;34m*\u001b[0m \u001b[0mSHIFT\u001b[0m \u001b[0;34m/\u001b[0m \u001b[0;34m(\u001b[0m\u001b[0mN\u001b[0m \u001b[0;34m-\u001b[0m \u001b[0;36m1\u001b[0m\u001b[0;34m)\u001b[0m\u001b[0;34m,\u001b[0m \u001b[0mdh\u001b[0m \u001b[0;34m*\u001b[0m \u001b[0mSHIFT\u001b[0m \u001b[0;34m/\u001b[0m \u001b[0;34m(\u001b[0m\u001b[0mN\u001b[0m \u001b[0;34m-\u001b[0m \u001b[0;36m1\u001b[0m\u001b[0;34m)\u001b[0m\u001b[0;34m\u001b[0m\u001b[0m\n\u001b[1;32m     34\u001b[0m \u001b[0;34m\u001b[0m\u001b[0m\n\u001b[0;32m---> 35\u001b[0;31m                 \u001b[0mImage\u001b[0m\u001b[0;34m.\u001b[0m\u001b[0mlightFieldImages\u001b[0m\u001b[0;34m[\u001b[0m\u001b[0mi\u001b[0m\u001b[0;34m,\u001b[0m \u001b[0mj\u001b[0m\u001b[0;34m]\u001b[0m \u001b[0;34m=\u001b[0m \u001b[0mndimage\u001b[0m\u001b[0;34m.\u001b[0m\u001b[0minterpolation\u001b[0m\u001b[0;34m.\u001b[0m\u001b[0mshift\u001b[0m\u001b[0;34m(\u001b[0m\u001b[0mImage\u001b[0m\u001b[0;34m.\u001b[0m\u001b[0mlightFieldImages\u001b[0m\u001b[0;34m[\u001b[0m\u001b[0mi\u001b[0m\u001b[0;34m,\u001b[0m \u001b[0mj\u001b[0m\u001b[0;34m]\u001b[0m\u001b[0;34m,\u001b[0m \u001b[0;34m(\u001b[0m\u001b[0mth\u001b[0m\u001b[0;34m,\u001b[0m \u001b[0mtw\u001b[0m\u001b[0;34m,\u001b[0m \u001b[0;36m0\u001b[0m\u001b[0;34m)\u001b[0m\u001b[0;34m,\u001b[0m \u001b[0morder\u001b[0m\u001b[0;34m=\u001b[0m\u001b[0;36m1\u001b[0m\u001b[0;34m)\u001b[0m\u001b[0;34m\u001b[0m\u001b[0m\n\u001b[0m\u001b[1;32m     36\u001b[0m \u001b[0;34m\u001b[0m\u001b[0m\n\u001b[1;32m     37\u001b[0m \u001b[0;34m\u001b[0m\u001b[0m\n",
      "\u001b[0;32m/Users/Killavus/anaconda2/lib/python2.7/site-packages/scipy/ndimage/interpolation.pyc\u001b[0m in \u001b[0;36mshift\u001b[0;34m(input, shift, output, order, mode, cval, prefilter)\u001b[0m\n\u001b[1;32m    500\u001b[0m     \u001b[0;32mif\u001b[0m \u001b[0;32mnot\u001b[0m \u001b[0mshift\u001b[0m\u001b[0;34m.\u001b[0m\u001b[0mflags\u001b[0m\u001b[0;34m.\u001b[0m\u001b[0mcontiguous\u001b[0m\u001b[0;34m:\u001b[0m\u001b[0;34m\u001b[0m\u001b[0m\n\u001b[1;32m    501\u001b[0m         \u001b[0mshift\u001b[0m \u001b[0;34m=\u001b[0m \u001b[0mshift\u001b[0m\u001b[0;34m.\u001b[0m\u001b[0mcopy\u001b[0m\u001b[0;34m(\u001b[0m\u001b[0;34m)\u001b[0m\u001b[0;34m\u001b[0m\u001b[0m\n\u001b[0;32m--> 502\u001b[0;31m     \u001b[0m_nd_image\u001b[0m\u001b[0;34m.\u001b[0m\u001b[0mzoom_shift\u001b[0m\u001b[0;34m(\u001b[0m\u001b[0mfiltered\u001b[0m\u001b[0;34m,\u001b[0m \u001b[0mNone\u001b[0m\u001b[0;34m,\u001b[0m \u001b[0mshift\u001b[0m\u001b[0;34m,\u001b[0m \u001b[0moutput\u001b[0m\u001b[0;34m,\u001b[0m \u001b[0morder\u001b[0m\u001b[0;34m,\u001b[0m \u001b[0mmode\u001b[0m\u001b[0;34m,\u001b[0m \u001b[0mcval\u001b[0m\u001b[0;34m)\u001b[0m\u001b[0;34m\u001b[0m\u001b[0m\n\u001b[0m\u001b[1;32m    503\u001b[0m     \u001b[0;32mreturn\u001b[0m \u001b[0mreturn_value\u001b[0m\u001b[0;34m\u001b[0m\u001b[0m\n\u001b[1;32m    504\u001b[0m \u001b[0;34m\u001b[0m\u001b[0m\n",
      "\u001b[0;31mKeyboardInterrupt\u001b[0m: "
     ]
    }
   ],
   "source": [
    "\n"
   ]
  },
  {
   "cell_type": "code",
   "execution_count": null,
   "metadata": {
    "collapsed": true
   },
   "outputs": [],
   "source": []
  }
 ],
 "metadata": {
  "anaconda-cloud": {},
  "kernelspec": {
   "display_name": "Python [default]",
   "language": "python",
   "name": "python2"
  },
  "language_info": {
   "codemirror_mode": {
    "name": "ipython",
    "version": 2
   },
   "file_extension": ".py",
   "mimetype": "text/x-python",
   "name": "python",
   "nbconvert_exporter": "python",
   "pygments_lexer": "ipython2",
   "version": "2.7.12"
  }
 },
 "nbformat": 4,
 "nbformat_minor": 1
}
