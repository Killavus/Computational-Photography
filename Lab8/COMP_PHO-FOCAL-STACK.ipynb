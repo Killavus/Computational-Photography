{
 "cells": [
  {
   "cell_type": "code",
   "execution_count": 15,
   "metadata": {
    "collapsed": false
   },
   "outputs": [
    {
     "name": "stdout",
     "output_type": "stream",
     "text": [
      "Populating the interactive namespace from numpy and matplotlib\n"
     ]
    }
   ],
   "source": [
    "%pylab inline\n",
    "pylab.rcParams['figure.figsize'] = (20, 20)\n",
    "from scipy import ndimage\n",
    "\n",
    "import imageio\n",
    "import numpy as np\n",
    "from scipy import ndimage"
   ]
  },
  {
   "cell_type": "code",
   "execution_count": 32,
   "metadata": {
    "collapsed": false
   },
   "outputs": [],
   "source": [
    "class LightFieldImage:\n",
    "    def __init__(self, SuperImagePath, W, H):\n",
    "        self.superImage = imageio.imread(SuperImagePath)\n",
    "        self.lightFieldDimension = (W, H)\n",
    "    \n",
    "    def LightFieldImages(self):\n",
    "        lightFieldM, lightFieldN = self.lightFieldDimension\n",
    "        superImageH, superImageW, _ = self.superImage.shape\n",
    "        lightFieldH = superImageH / lightFieldN\n",
    "        lightFieldW = superImageW / lightFieldM\n",
    "        \n",
    "        Images = np.zeros((lightFieldN, lightFieldM, lightFieldH, lightFieldW, 3), np.uint8)        \n",
    "        \n",
    "        for y in range(lightFieldN):\n",
    "            for x in range(lightFieldM):\n",
    "                YStart, YEnd = y * lightFieldH, (y + 1) * lightFieldH\n",
    "                XStart, XEnd = x * lightFieldW, (x + 1) * lightFieldW\n",
    "                Images[y, x] = self.superImage[YStart:YEnd, XStart:XEnd]\n",
    "        return Images\n",
    "                \n",
    "    def CreateApertureView(self):\n",
    "        superImageH, superImageW, _ = self.superImage.shape\n",
    "        lightFieldM, lightFieldN = self.lightFieldDimension\n",
    "        superImageH, superImageW, _ = self.superImage.shape\n",
    "        lightFieldH = superImageH / lightFieldN\n",
    "        lightFieldW = superImageW / lightFieldM\n",
    "        \n",
    "        View = np.zeros_like(self.superImage)\n",
    "        \n",
    "        SImXs = np.tile(np.arange(0, superImageW - lightFieldW + 1, lightFieldW), lightFieldM)\n",
    "        SImYs = np.repeat(np.arange(0, superImageH - lightFieldH + 1, lightFieldH), lightFieldN)\n",
    "        \n",
    "        for Y in range(lightFieldH):\n",
    "            for X in range(lightFieldW):\n",
    "                VYStart, VYEnd = (Y * lightFieldN), ((Y + 1) * lightFieldN)\n",
    "                VXStart, VXEnd = (X * lightFieldM), ((X + 1) * lightFieldM)\n",
    "                \n",
    "                DataSlice = self.superImage[SImYs + Y, SImXs + X]\n",
    "                View[VYStart:VYEnd,VXStart:VXEnd, :] = DataSlice.reshape(lightFieldN, lightFieldM, 3)                \n",
    "        \n",
    "        self.apertureView = View\n",
    "        return View\n",
    "        \n",
    "    def PlotApertureView(self):\n",
    "        imshow(self.apertureView)\n",
    "        \n",
    "    def SaveApertureView(self, fName):\n",
    "        imageio.imsave(fName, self.apertureView)\n",
    "        \n",
    "    def EpipolarHorizontalSlice(self, H):\n",
    "        superImageW = self.superImage.shape[1]\n",
    "        lightFieldM = self.lightFieldDimension[0]\n",
    "        lightFieldW = superImageW / lightFieldM\n",
    "        \n",
    "        SliceStartXs = np.arange(0, superImageW, lightFieldW)\n",
    "        Epipolar = np.zeros((lightFieldM, lightFieldW, 3), np.uint8)\n",
    "        \n",
    "        for I in range(len(SliceStartXs)):\n",
    "            Epipolar[I] = self.superImage[H, SliceStartXs[I]:SliceStartXs[I] + lightFieldW]\n",
    "            \n",
    "        return Epipolar\n",
    "\n",
    "    def EpipolarVerticalSlice(self, W):\n",
    "        superImageH = self.superImage.shape[0]\n",
    "        lightFieldN = self.lightFieldDimension[1]\n",
    "        lightFieldH = superImageH / lightFieldN\n",
    "        \n",
    "        SliceStartYs = np.arange(0, superImageH , lightFieldH)\n",
    "        Epipolar = np.zeros((lightFieldH, lightFieldN, 3), np.uint8)\n",
    "        \n",
    "        for I in range(len(SliceStartYs)):\n",
    "            Epipolar[:, I] = self.superImage[SliceStartYs[I]:SliceStartYs[I] + lightFieldH, W]\n",
    "            \n",
    "        return Epipolar\n",
    "    \n",
    "    def FocalStack(self, shift, radius):\n",
    "        Images = self.LightFieldImages()\n",
    "        \n",
    "        lightFieldN, lightFieldM, lightFieldH, lightFieldW, _ = Images.shape\n",
    "        Images = Images.astype(np.float)\n",
    "        Images /= 255.0\n",
    "        \n",
    "        centerN = lightFieldN / 2\n",
    "        centerM = lightFieldM / 2\n",
    "        \n",
    "        for n in range(lightFieldN):\n",
    "            for m in range(lightFieldM):\n",
    "                translateN, translateM = shift * (centerN - n), shift * (centerM - m)\n",
    "                Images[n, m] = ndimage.interpolation.shift(Images[n, m], (translateN, translateM, 0), order=1)\n",
    "            \n",
    "        StackedImage = np.zeros((lightFieldH, lightFieldW, 3))\n",
    "        \n",
    "        for i in range(centerN-radius, centerN+radius+1):\n",
    "            for j in range(centerM-radius, centerM+radius+1):\n",
    "                StackedImage += Images[i, j]\n",
    "        \n",
    "        StackedImage *= 1.0 / float((1 + radius * 2) ** 2)\n",
    "        \n",
    "        return StackedImage\n",
    "        \n",
    "View = LightFieldImage('./data/9x9/matrioska.jpg', 9, 9)"
   ]
  },
  {
   "cell_type": "code",
   "execution_count": 40,
   "metadata": {
    "collapsed": false
   },
   "outputs": [],
   "source": [
    "shifts = np.arange(-2.0, 2.0, 0.1)\n",
    "Gif = []\n",
    "for i in shifts:\n",
    "    Gif.append(View.FocalStack(i, 4))\n"
   ]
  },
  {
   "cell_type": "code",
   "execution_count": 41,
   "metadata": {
    "collapsed": true
   },
   "outputs": [],
   "source": [
    "writer = imageio.get_writer('./matrioska_fstack.mp4', fps=2)\n",
    "\n",
    "for Frame in Gif:\n",
    "    writer.append_data(Frame)\n",
    "writer.close()"
   ]
  },
  {
   "cell_type": "code",
   "execution_count": null,
   "metadata": {
    "collapsed": true
   },
   "outputs": [],
   "source": []
  }
 ],
 "metadata": {
  "anaconda-cloud": {},
  "kernelspec": {
   "display_name": "Python [default]",
   "language": "python",
   "name": "python2"
  },
  "language_info": {
   "codemirror_mode": {
    "name": "ipython",
    "version": 2
   },
   "file_extension": ".py",
   "mimetype": "text/x-python",
   "name": "python",
   "nbconvert_exporter": "python",
   "pygments_lexer": "ipython2",
   "version": "2.7.12"
  }
 },
 "nbformat": 4,
 "nbformat_minor": 1
}
