{
 "cells": [
  {
   "cell_type": "code",
   "execution_count": 217,
   "metadata": {
    "collapsed": false
   },
   "outputs": [
    {
     "name": "stdout",
     "output_type": "stream",
     "text": [
      "Using matplotlib backend: Qt5Agg\n",
      "Populating the interactive namespace from numpy and matplotlib\n"
     ]
    },
    {
     "name": "stderr",
     "output_type": "stream",
     "text": [
      "/home/killavus/anaconda2/lib/python2.7/site-packages/IPython/core/magics/pylab.py:161: UserWarning: pylab import has clobbered these variables: ['f', 'ceil']\n",
      "`%matplotlib` prevents importing * from pylab and numpy\n",
      "  \"\\n`%matplotlib` prevents importing * from pylab and numpy\"\n"
     ]
    }
   ],
   "source": [
    "%pylab"
   ]
  },
  {
   "cell_type": "code",
   "execution_count": 218,
   "metadata": {
    "collapsed": true
   },
   "outputs": [],
   "source": [
    "import numpy as np\n",
    "from scipy import ndimage\n",
    "from math import ceil"
   ]
  },
  {
   "cell_type": "code",
   "execution_count": 232,
   "metadata": {
    "collapsed": false,
    "scrolled": false
   },
   "outputs": [],
   "source": [
    "def createColorPattern(color, colorMask):\n",
    "    maskBase = map(lambda x: x == color, list(colorMask))\n",
    "    return np.array(maskBase).reshape((2, 2))\n",
    "\n",
    "def maskFromPattern(colorPattern, imageShape):\n",
    "    timesW = ceil(float(imageShape[0]) / 2)\n",
    "    timesH = ceil(float(imageShape[1]) / 2)\n",
    "\n",
    "    result = np.tile(colorPattern, (timesW, timesH))\n",
    "\n",
    "    if result.shape[0] == (imageShape[0] + 1):\n",
    "        result = result[0:-1, :]\n",
    "\n",
    "    if result.shape[1] == (imageShape[1] + 1):\n",
    "        result = result[:, 0:-1]\n",
    "\n",
    "    return result * 1\n",
    "\n",
    "def demosaicEdgeBased(rawImage, colorSetup='rggb'):\n",
    "    rPattern = createColorPattern('r', colorSetup)\n",
    "    gPattern = createColorPattern('g', colorSetup)\n",
    "    bPattern = createColorPattern('b', colorSetup)\n",
    "    \n",
    "    redMask   = maskFromPattern(rPattern, rawImage.shape)\n",
    "    greenMask = maskFromPattern(gPattern, rawImage.shape)\n",
    "    blueMask  = maskFromPattern(bPattern, rawImage.shape)\n",
    "    \n",
    "    trueRedPixels   = rawImage * redMask\n",
    "    trueGreenPixels = rawImage * greenMask\n",
    "    trueBluePixels  = rawImage * blueMask\n",
    "    \n",
    "    # TODO"
   ]
  },
  {
   "cell_type": "code",
   "execution_count": 247,
   "metadata": {
    "collapsed": false
   },
   "outputs": [
    {
     "name": "stdout",
     "output_type": "stream",
     "text": [
      "[[ 12.  28.  19. ...,  70.  65.  70.]\n",
      " [ 28.  31.  24. ...,  72.  64.  70.]\n",
      " [ 18.  30.  14. ...,  61.  57.  66.]\n",
      " ..., \n",
      " [ 19.   4.  14. ...,   3.  11.   8.]\n",
      " [  3.  13.  12. ...,  11.  21.  15.]\n",
      " [ 15.   0.  22. ...,   1.  15.   8.]]\n",
      "./lighthouse_RAW_noisy_sigma0.01.png (768, 512)\n",
      "[[  8018.   8938.   8820. ...,   5980.   7468.   7618.]\n",
      " [  9856.  12262.  11844. ...,   5696.   5948.   4660.]\n",
      " [ 10958.  11444.  10390. ...,   6080.   5196.   4912.]\n",
      " ..., \n",
      " [  1770.   1638.   1386. ...,    818.    802.    584.]\n",
      " [  1738.   1420.   1170. ...,    736.    852.    736.]\n",
      " [  1720.   1670.   1070. ...,    534.    936.   1070.]]\n",
      "./raw/signs.png (2014, 3039)\n",
      "[[ 3976.  2590.  4276. ...,  1002.   584.   802.]\n",
      " [ 2656.  1938.  2956. ...,   400.   502.   418.]\n",
      " [ 4110.  2338.  3240. ...,   836.   452.   534.]\n",
      " ..., \n",
      " [  100.   300.   300. ...,   384.   702.   384.]\n",
      " [  434.   200.   334. ...,   802.   300.   768.]\n",
      " [  200.   434.   368. ...,   300.     0.   418.]]\n",
      "./raw/text.png (2014, 3039)\n",
      "[[ 24.  33.  30. ...,  18.  19.  20.]\n",
      " [ 33.  40.  33. ...,  19.  19.  21.]\n",
      " [ 31.  33.  29. ...,  18.  16.  15.]\n",
      " ..., \n",
      " [ 69.  76.  67. ...,  40.  39.  43.]\n",
      " [ 55.  67.  56. ...,  34.  35.  39.]\n",
      " [ 60.  76.  71. ...,  44.  39.  45.]]\n",
      "./raw/signs-small.png (520, 426)\n",
      "[[  3976.   2590.   4276. ...,  17624.  28064.  17374.]\n",
      " [  2656.   1938.   2956. ...,  11394.  16990.  10390.]\n",
      " [  4110.   2338.   3240. ...,  16872.  26060.  16504.]\n",
      " ..., \n",
      " [  2206.   1554.   2806. ...,  17758.  26696.  17874.]\n",
      " [  1738.   1202.   1820. ...,  11828.  18258.  11092.]\n",
      " [  2672.   1720.   2472. ...,  17490.  26928.  17374.]]\n",
      "./raw/text2.png (117, 270)\n"
     ]
    }
   ],
   "source": [
    "files = {\n",
    "    './lighthouse_RAW_noisy_sigma0.01.png': 'rggb',\n",
    "    './raw/signs.png': 'grbg',\n",
    "    './raw/signs-small.png': 'bggr',\n",
    "    './raw/text.png': 'gbrg',\n",
    "    './raw/text2.png': 'gbgr'\n",
    "}\n",
    "\n",
    "for fileName, colorSetup in files.iteritems():\n",
    "    rawImage = ndimage.imread(fileName, mode=\"F\")\n",
    "    print rawImage\n",
    "    print fileName, rawImage.shape\n",
    "    coloredImage = demosaicLinearly(rawImage, colorSetup)\n",
    "\n",
    "    imshow(coloredImage / 255.0)\n",
    "    imsave(fileName + '.edgebased.mine.png', coloredImage / 255.0)\n"
   ]
  },
  {
   "cell_type": "code",
   "execution_count": null,
   "metadata": {
    "collapsed": false
   },
   "outputs": [],
   "source": []
  },
  {
   "cell_type": "code",
   "execution_count": null,
   "metadata": {
    "collapsed": false
   },
   "outputs": [],
   "source": []
  },
  {
   "cell_type": "code",
   "execution_count": null,
   "metadata": {
    "collapsed": true
   },
   "outputs": [],
   "source": []
  }
 ],
 "metadata": {
  "anaconda-cloud": {},
  "kernelspec": {
   "display_name": "Python [conda root]",
   "language": "python",
   "name": "conda-root-py"
  },
  "language_info": {
   "codemirror_mode": {
    "name": "ipython",
    "version": 2
   },
   "file_extension": ".py",
   "mimetype": "text/x-python",
   "name": "python",
   "nbconvert_exporter": "python",
   "pygments_lexer": "ipython2",
   "version": "2.7.12"
  }
 },
 "nbformat": 4,
 "nbformat_minor": 0
}
