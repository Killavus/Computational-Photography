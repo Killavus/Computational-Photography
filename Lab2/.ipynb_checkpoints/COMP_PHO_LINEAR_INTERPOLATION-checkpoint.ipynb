{
 "cells": [
  {
   "cell_type": "code",
   "execution_count": 2,
   "metadata": {
    "collapsed": false
   },
   "outputs": [
    {
     "name": "stdout",
     "output_type": "stream",
     "text": [
      "Using matplotlib backend: MacOSX\n",
      "Populating the interactive namespace from numpy and matplotlib\n"
     ]
    }
   ],
   "source": [
    "%pylab"
   ]
  },
  {
   "cell_type": "code",
   "execution_count": 3,
   "metadata": {
    "collapsed": true
   },
   "outputs": [],
   "source": [
    "import numpy as np\n",
    "from scipy import ndimage\n",
    "from math import ceil"
   ]
  },
  {
   "cell_type": "code",
   "execution_count": 25,
   "metadata": {
    "collapsed": false,
    "scrolled": false
   },
   "outputs": [],
   "source": [
    "def createColorPattern(color, colorMask):\n",
    "    maskBase = map(lambda x: x == color, list(colorMask))\n",
    "    return np.array(maskBase).reshape((2, 2))\n",
    "\n",
    "def maskFromPattern(colorPattern, imageShape):\n",
    "    timesW = ceil(float(imageShape[0]) / 2)\n",
    "    timesH = ceil(float(imageShape[1]) / 2)\n",
    "\n",
    "    result = np.tile(colorPattern, (timesW, timesH))\n",
    "\n",
    "    if result.shape[0] == (imageShape[0] + 1):\n",
    "        result = result[0:-1, :]\n",
    "\n",
    "    if result.shape[1] == (imageShape[1] + 1):\n",
    "        result = result[:, 0:-1]\n",
    "\n",
    "    return result * 1\n",
    "\n",
    "def demosaicLinearly(rawImage, colorSetup='rggb'):\n",
    "    rPattern = createColorPattern('r', colorSetup)\n",
    "    gPattern = createColorPattern('g', colorSetup)\n",
    "    bPattern = createColorPattern('b', colorSetup)\n",
    "    \n",
    "    redMask   = maskFromPattern(rPattern, rawImage.shape)\n",
    "    greenMask = maskFromPattern(gPattern, rawImage.shape)\n",
    "    blueMask  = maskFromPattern(bPattern, rawImage.shape)\n",
    "    \n",
    "    trueRedPixels   = rawImage * redMask\n",
    "    trueGreenPixels = rawImage * greenMask\n",
    "    trueBluePixels  = rawImage * blueMask\n",
    "        \n",
    "    # + values are for edge cases (i.e. edge on the left)\n",
    "    # x values are for ordinary cases.\n",
    "    redBlueKernel = np.array([\n",
    "       [0.25, 0.50, 0.25],\n",
    "       [0.50, 1.00, 0.50],\n",
    "       [0.25, 0.50, 0.25]\n",
    "    ], dtype=np.float)\n",
    "    \n",
    "    greenKernel = np.array([\n",
    "       [0.00, 0.25, 0.00],\n",
    "       [0.25, 1.00, 0.25],\n",
    "       [0.00, 0.25, 0.00]\n",
    "    ], dtype=np.float)\n",
    "\n",
    "    redConvolve   = ndimage.filters.convolve(trueRedPixels, redBlueKernel)\n",
    "    greenConvolve = ndimage.filters.convolve(trueGreenPixels, greenKernel)\n",
    "    blueConvolve  = ndimage.filters.convolve(trueBluePixels, redBlueKernel)\n",
    "\n",
    "    demosaicedImage = np.empty(shape=(rawImage.shape[0], rawImage.shape[1], 3))\n",
    "    \n",
    "    demosaicedImage[:, :, 0] = redConvolve\n",
    "    demosaicedImage[:, :, 1] = greenConvolve\n",
    "    demosaicedImage[:, :, 2] = blueConvolve\n",
    "\n",
    "    return demosaicedImage"
   ]
  },
  {
   "cell_type": "code",
   "execution_count": 26,
   "metadata": {
    "collapsed": false
   },
   "outputs": [
    {
     "name": "stdout",
     "output_type": "stream",
     "text": [
      "./lighthouse_RAW_noisy_sigma0.01.png (768, 512)\n",
      "./raw/signs-small.png (520, 426)\n"
     ]
    }
   ],
   "source": [
    "files = {\n",
    "    './lighthouse_RAW_noisy_sigma0.01.png': 'rggb',\n",
    "#    './raw/signs.png': 'grbg',\n",
    "    './raw/signs-small.png': 'bggr',\n",
    "#    './raw/text.png': 'gbrg',\n",
    "#    './raw/text2.png': 'gbgr'\n",
    "}\n",
    "\n",
    "for fileName, colorSetup in files.iteritems():\n",
    "    rawImage = ndimage.imread(fileName)\n",
    "    print fileName, rawImage.shape\n",
    "    coloredImage = demosaicLinearly(rawImage, colorSetup)\n",
    "    imsave(fileName + '.linear.mine.png', coloredImage / 255.0)\n"
   ]
  },
  {
   "cell_type": "code",
   "execution_count": 39,
   "metadata": {
    "collapsed": false
   },
   "outputs": [],
   "source": [
    "def applyGamma(image, gamma = 1/2.2):\n",
    "    red = image[:, :, 0]\n",
    "    green = image[:, :, 1]\n",
    "    blue = image[:, :, 2]\n",
    "    gamma = 1 / 2.2\n",
    "\n",
    "    red = np.power(red, gamma)\n",
    "    green = np.power(green, gamma)\n",
    "    blue = np.power(blue, gamma)\n",
    "\n",
    "    result = np.empty(shape=(image.shape[0], image.shape[1], 3))\n",
    "    result[:, :, 0] = red\n",
    "    result[:, :, 1] = green\n",
    "    result[:, :, 2] = blue\n",
    "    \n",
    "    return result\n",
    "\n",
    "rawImage = ndimage.imread('./raw/_MG_4257.pgm')\n",
    "colorSetup = 'rggb'\n",
    "demosaiced = applyGamma(demosaicLinearly(rawImage, colorSetup) / 255.0)\n",
    "imshow(demosaiced)\n",
    "imsave('./raw/_MG_4257.linear.g=2.4.png', demosaiced)"
   ]
  },
  {
   "cell_type": "code",
   "execution_count": null,
   "metadata": {
    "collapsed": false
   },
   "outputs": [],
   "source": []
  },
  {
   "cell_type": "code",
   "execution_count": null,
   "metadata": {
    "collapsed": true
   },
   "outputs": [],
   "source": []
  }
 ],
 "metadata": {
  "anaconda-cloud": {},
  "kernelspec": {
   "display_name": "Python [conda root]",
   "language": "python",
   "name": "conda-root-py"
  },
  "language_info": {
   "codemirror_mode": {
    "name": "ipython",
    "version": 2
   },
   "file_extension": ".py",
   "mimetype": "text/x-python",
   "name": "python",
   "nbconvert_exporter": "python",
   "pygments_lexer": "ipython2",
   "version": "2.7.12"
  }
 },
 "nbformat": 4,
 "nbformat_minor": 0
}
