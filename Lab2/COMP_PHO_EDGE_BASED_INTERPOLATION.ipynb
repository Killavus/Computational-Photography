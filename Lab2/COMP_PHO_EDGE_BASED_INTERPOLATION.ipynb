{
 "cells": [
  {
   "cell_type": "code",
   "execution_count": 60,
   "metadata": {
    "collapsed": false
   },
   "outputs": [
    {
     "name": "stdout",
     "output_type": "stream",
     "text": [
      "Using matplotlib backend: MacOSX\n",
      "Populating the interactive namespace from numpy and matplotlib\n"
     ]
    },
    {
     "name": "stderr",
     "output_type": "stream",
     "text": [
      "/Users/Killavus/anaconda2/lib/python2.7/site-packages/IPython/core/magics/pylab.py:161: UserWarning: pylab import has clobbered these variables: ['ceil']\n",
      "`%matplotlib` prevents importing * from pylab and numpy\n",
      "  \"\\n`%matplotlib` prevents importing * from pylab and numpy\"\n"
     ]
    }
   ],
   "source": [
    "%pylab"
   ]
  },
  {
   "cell_type": "code",
   "execution_count": 61,
   "metadata": {
    "collapsed": true
   },
   "outputs": [],
   "source": [
    "import numpy as np\n",
    "from scipy import ndimage\n",
    "from math import ceil"
   ]
  },
  {
   "cell_type": "code",
   "execution_count": 62,
   "metadata": {
    "collapsed": false,
    "scrolled": false
   },
   "outputs": [],
   "source": [
    "def createColorPattern(color, colorMask):\n",
    "    maskBase = map(lambda x: x == color, list(colorMask))\n",
    "    return np.array(maskBase).reshape((2, 2))\n",
    "\n",
    "def maskFromPattern(colorPattern, imageShape):\n",
    "    timesW = ceil(float(imageShape[0]) / 2)\n",
    "    timesH = ceil(float(imageShape[1]) / 2)\n",
    "\n",
    "    result = np.tile(colorPattern, (timesW, timesH))\n",
    "\n",
    "    if result.shape[0] == (imageShape[0] + 1):\n",
    "        result = result[0:-1, :]\n",
    "\n",
    "    if result.shape[1] == (imageShape[1] + 1):\n",
    "        result = result[:, 0:-1]\n",
    "\n",
    "    return result * 1\n",
    "\n",
    "def colorLayer(rawImage, color, colorSetup):\n",
    "    colorPattern = createColorPattern(color, colorSetup)\n",
    "    colorMask = maskFromPattern(colorPattern, rawImage.shape)\n",
    "    return rawImage * colorMask\n",
    "\n",
    "def convoluteColorLayer(rawImage, color, colorSetup, convolutionKernel):\n",
    "    return ndimage.filters.convolve(colorLayer(rawImage, color, colorSetup), convolutionKernel)\n",
    "    \n",
    "def makeImage(rLayer, gLayer, bLayer):\n",
    "    image = np.empty(shape=(rLayer.shape[0], rLayer.shape[1], 3))\n",
    "    \n",
    "    image[:, :, 0] = rLayer\n",
    "    image[:, :, 1] = gLayer\n",
    "    image[:, :, 2] = bLayer\n",
    "    \n",
    "    return image\n",
    "\n",
    "def linearKernel(color):\n",
    "    if color == 'g':\n",
    "        return np.array([\n",
    "            [0.00,  0.25, 0.00],\n",
    "            [0.25, 1.00, 0.25],\n",
    "            [0.00,  0.25, 0.00]\n",
    "        ], dtype=np.float)\n",
    "    else:\n",
    "        return np.array([\n",
    "            [0.25, 0.50, 0.25],\n",
    "            [0.50, 1.00, 0.50],\n",
    "            [0.25, 0.50, 0.25]\n",
    "        ], dtype=np.float)\n",
    "    \n",
    "# Input format:\n",
    "# [ 0 1 2 ]\n",
    "# [ 3 4 5 ]\n",
    "# [ 6 7 8 ]\n",
    "def redBlueEdgeDirectedInterpolation(window):\n",
    "    if window[4] == 0:\n",
    "        deltaTLBR = abs(window[0] - window[8])\n",
    "        deltaTRBL = abs(window[2] - window[6])\n",
    "        \n",
    "        if deltaTLBR > deltaTRBL:\n",
    "            return float(window[2] + window[6]) / 2\n",
    "        elif deltaTLBR <= deltaTRBL:\n",
    "            return float(window[0] + window[8]) / 2\n",
    "        else:\n",
    "            return float(window[0] + window[2] + window[6] + window[8]) / 4\n",
    "    else:\n",
    "        return window\n",
    "    \n",
    "def greenEdgeDirectedInterpolation(window):\n",
    "    if window[4] == 0:\n",
    "        deltaLR = abs(window[3] - window[5])\n",
    "        deltaTD = abs(window[1] - window[7])\n",
    "\n",
    "        if deltaLR > deltaTD:\n",
    "            return float(window[1] + window[7]) / 2\n",
    "        elif deltaLR < deltaTD:\n",
    "            return float(window[3] + window[5]) / 2\n",
    "        else:\n",
    "            return float(window[1] + window[3] + window[5] + window[7]) / 4\n",
    "    else:\n",
    "        return window[4]\n",
    "\n",
    "def demosaicEdgeDirected(rawImage, colorSetup):    \n",
    "    layers = {}\n",
    "    layers['r'] = convoluteColorLayer(rawImage, 'r', colorSetup, linearKernel('r'))\n",
    "    layers['g'] = ndimage.filters.generic_filter(\n",
    "                            colorLayer(rawImage, 'g', colorSetup),\n",
    "                            greenEdgeDirectedInterpolation,\n",
    "                            size=3)    \n",
    "    layers['b'] = convoluteColorLayer(rawImage, 'b', colorSetup, linearKernel('b'))    \n",
    "        \n",
    "    return makeImage(layers['r'], layers['g'], layers['b'])"
   ]
  },
  {
   "cell_type": "code",
   "execution_count": 63,
   "metadata": {
    "collapsed": false,
    "scrolled": true
   },
   "outputs": [
    {
     "name": "stdout",
     "output_type": "stream",
     "text": [
      "./lighthouse_RAW_noisy_sigma0.01.png (768, 512)\n",
      "./raw/signs-small.png (520, 426)\n"
     ]
    }
   ],
   "source": [
    "files = {\n",
    "    './lighthouse_RAW_noisy_sigma0.01.png': 'rggb',\n",
    "#    './raw/signs.png': 'grbg',\n",
    "    './raw/signs-small.png': 'bggr',\n",
    "#    './raw/text.png': 'gbrg',\n",
    "#    './raw/text2.png': 'gbgr'\n",
    "}\n",
    "\n",
    "\n",
    "for fileName, colorSetup in files.iteritems():\n",
    "    rawImage = ndimage.imread(fileName, mode=\"F\")\n",
    "    print fileName, rawImage.shape\n",
    "    coloredImage = demosaicEdgeDirected(rawImage, colorSetup)\n",
    "    imsave(fileName + '.edgedirected.mine.png', coloredImage / 255.0)"
   ]
  },
  {
   "cell_type": "code",
   "execution_count": null,
   "metadata": {
    "collapsed": false
   },
   "outputs": [],
   "source": []
  },
  {
   "cell_type": "code",
   "execution_count": null,
   "metadata": {
    "collapsed": false
   },
   "outputs": [],
   "source": []
  },
  {
   "cell_type": "code",
   "execution_count": null,
   "metadata": {
    "collapsed": true
   },
   "outputs": [],
   "source": []
  }
 ],
 "metadata": {
  "anaconda-cloud": {},
  "kernelspec": {
   "display_name": "Python [conda root]",
   "language": "python",
   "name": "conda-root-py"
  },
  "language_info": {
   "codemirror_mode": {
    "name": "ipython",
    "version": 2
   },
   "file_extension": ".py",
   "mimetype": "text/x-python",
   "name": "python",
   "nbconvert_exporter": "python",
   "pygments_lexer": "ipython2",
   "version": "2.7.12"
  }
 },
 "nbformat": 4,
 "nbformat_minor": 0
}
