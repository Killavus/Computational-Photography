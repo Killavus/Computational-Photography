{
 "cells": [
  {
   "cell_type": "code",
   "execution_count": 2,
   "metadata": {
    "collapsed": false
   },
   "outputs": [
    {
     "name": "stdout",
     "output_type": "stream",
     "text": [
      "Using matplotlib backend: MacOSX\n",
      "Populating the interactive namespace from numpy and matplotlib\n"
     ]
    }
   ],
   "source": [
    "%pylab\n",
    "import math\n",
    "from scipy import ndimage\n",
    "import numpy as np"
   ]
  },
  {
   "cell_type": "code",
   "execution_count": 22,
   "metadata": {
    "collapsed": false
   },
   "outputs": [
    {
     "data": {
      "text/plain": [
       "<matplotlib.image.AxesImage at 0x11f91e9d0>"
      ]
     },
     "execution_count": 22,
     "metadata": {},
     "output_type": "execute_result"
    }
   ],
   "source": [
    "image = ndimage.imread('./lighthouse_RAW_noisy_sigma0.01.png.edgedirected.mine.png')\n",
    "\n",
    "# source: http://www.fourcc.org/fccyvrgb.php\n",
    "def toYCrCb(image):\n",
    "    YRCoeff = 0.257\n",
    "    YGCoeff = 0.504\n",
    "    YBCoeff = 0.098\n",
    "    YConstant = 16\n",
    "    \n",
    "    CrRCoeff = 0.439\n",
    "    CrGCoeff = 0.368\n",
    "    CrBCoeff = 0.071\n",
    "    CrConstant = 128\n",
    "    \n",
    "    CbRCoeff = 0.148\n",
    "    CbGCoeff = 0.291\n",
    "    CbBCoeff = 0.439\n",
    "    CbConstant = 128\n",
    "    \n",
    "    reds = image[:, :, 0]\n",
    "    greens = image[:, :, 1]\n",
    "    blues = image[:, :, 2]\n",
    "    \n",
    "    Y  = YRCoeff * reds + YGCoeff * greens + YBCoeff * blues + YConstant\n",
    "    Cr = CrRCoeff * reds - CrGCoeff * greens - CrBCoeff * blues + CrConstant\n",
    "    Cb = -(CbRCoeff * reds) - CbGCoeff * greens + CbBCoeff * blues + CbConstant\n",
    "    \n",
    "    result = np.empty(shape=(image.shape[0], image.shape[1], 3))\n",
    "    result[:, :, 0] = Y\n",
    "    result[:, :, 1] = Cr\n",
    "    result[:, :, 2] = Cb\n",
    "    \n",
    "    return result\n",
    "\n",
    "def toRGB(image):\n",
    "    YCoeff = 1.164\n",
    "    \n",
    "    BCbCoeff = 2.018\n",
    "    \n",
    "    GCrCoeff = -0.813\n",
    "    GCbCoeff = -0.391\n",
    "    \n",
    "    RCrCoeff = 1.596\n",
    "    \n",
    "    Y = image[:, :, 0]\n",
    "    Cr = image[:, :, 1]\n",
    "    Cb = image[:, :, 2]\n",
    "    \n",
    "    Y -= 16\n",
    "    Cr -= 128\n",
    "    Cb -= 128\n",
    "    \n",
    "    YPiece = Y * YCoeff\n",
    "    blues = YPiece + BCbCoeff * Cb\n",
    "    greens = YPiece + (GCrCoeff * Cr) + (GCbCoeff * Cb)\n",
    "    reds = YPiece + (RCrCoeff * Cr)\n",
    "    \n",
    "    result = np.empty(shape=(image.shape[0], image.shape[1], 3))\n",
    "    \n",
    "    overflowedReds = reds > 255\n",
    "    overflowedGreens = greens > 255\n",
    "    overflowedBlues = blues > 255\n",
    "    \n",
    "    underflowedReds = reds < 0\n",
    "    underflowedGreens = greens < 0\n",
    "    underflowedBlues = blues < 0\n",
    "    \n",
    "    reds[overflowedReds] = 255.\n",
    "    greens[overflowedGreens] = 255.\n",
    "    blues[overflowedBlues] = 255.\n",
    "    \n",
    "    reds[underflowedReds] = 0.\n",
    "    greens[underflowedGreens] = 0.\n",
    "    blues[underflowedBlues] = 0.\n",
    "    \n",
    "    result[:, :, 0] = reds\n",
    "    result[:, :, 1] = greens\n",
    "    result[:, :, 2] = blues\n",
    "    \n",
    "    return result\n",
    "\n",
    "def naiveMedianFilter(window):\n",
    "    sortedWindow = sorted(window)\n",
    "    return sortedWindow[len(sortedWindow) / 2]\n",
    "\n",
    "def applyGamma(image, gamma = 1/2.2):\n",
    "    red = image[:, :, 0]\n",
    "    green = image[:, :, 1]\n",
    "    blue = image[:, :, 2]\n",
    "    gamma = 1 / 2.2\n",
    "\n",
    "    red = np.power(red, gamma)\n",
    "    green = np.power(green, gamma)\n",
    "    blue = np.power(blue, gamma)\n",
    "\n",
    "    result = np.empty(shape=(image.shape[0], image.shape[1], 3))\n",
    "    result[:, :, 0] = red\n",
    "    result[:, :, 1] = green\n",
    "    result[:, :, 2] = blue\n",
    "    \n",
    "    return result\n",
    "\n",
    "yuvImage = toYCrCb(image)\n",
    "# naive usage:\n",
    "# yuvImage[:, :, 1] = ndimage.filters.generic_filter(yuvImage[:, :, 1], size=10, function=naiveMedianFilter)\n",
    "# yuvImage[:, :, 2] = ndimage.filters.generic_filter(yuvImage[:, :, 2], size=10, function=naiveMedianFilter)\n",
    "\n",
    "yuvImage[:, :, 1] = ndimage.filters.median_filter(yuvImage[:, :, 1], size=10)\n",
    "yuvImage[:, :, 2] = ndimage.filters.median_filter(yuvImage[:, :, 2], size=10)\n",
    "rgbImage = toRGB(yuvImage)\n",
    "\n",
    "imshow(applyGamma(rgbImage / 255.0))"
   ]
  },
  {
   "cell_type": "code",
   "execution_count": null,
   "metadata": {
    "collapsed": true
   },
   "outputs": [],
   "source": []
  }
 ],
 "metadata": {
  "anaconda-cloud": {},
  "kernelspec": {
   "display_name": "Python [conda root]",
   "language": "python",
   "name": "conda-root-py"
  },
  "language_info": {
   "codemirror_mode": {
    "name": "ipython",
    "version": 2
   },
   "file_extension": ".py",
   "mimetype": "text/x-python",
   "name": "python",
   "nbconvert_exporter": "python",
   "pygments_lexer": "ipython2",
   "version": "2.7.12"
  }
 },
 "nbformat": 4,
 "nbformat_minor": 1
}
