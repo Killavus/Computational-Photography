{
 "cells": [
  {
   "cell_type": "code",
   "execution_count": 2,
   "metadata": {
    "collapsed": false
   },
   "outputs": [
    {
     "name": "stdout",
     "output_type": "stream",
     "text": [
      "Using matplotlib backend: MacOSX\n",
      "Populating the interactive namespace from numpy and matplotlib\n"
     ]
    }
   ],
   "source": [
    "%pylab\n",
    "import math\n",
    "import numpy as np\n",
    "from scipy import ndimage"
   ]
  },
  {
   "cell_type": "code",
   "execution_count": 56,
   "metadata": {
    "collapsed": false
   },
   "outputs": [],
   "source": [
    "files = [\n",
    "    './lighthouse_RAW_noisy_sigma0.01.png.linear.mine.png',\n",
    "    './lighthouse_RAW_noisy_sigma0.01.png.edgedirected.mine.png',\n",
    "    './raw/signs-small.png.linear.mine.png',\n",
    "    './raw/signs-small.png.edgedirected.mine.png'\n",
    "]\n",
    "\n",
    "for fileName in files:\n",
    "    image = imread(fileName)\n",
    "    red = image[:, :, 0]\n",
    "    green = image[:, :, 1]\n",
    "    blue = image[:, :, 2]\n",
    "    gamma = 1 / 2.2\n",
    "\n",
    "    red = np.power(red, gamma)\n",
    "    green = np.power(green, gamma)\n",
    "    blue = np.power(blue, gamma)\n",
    "\n",
    "    image[:, :, 0] = red\n",
    "    image[:, :, 1] = green\n",
    "    image[:, :, 2] = blue\n",
    "\n",
    "    imshow(image[:, :, :3])\n",
    "    print fileName\n",
    "    imsave(fileName + '.g=2.2.png', image[:, :, :3])\n"
   ]
  },
  {
   "cell_type": "code",
   "execution_count": null,
   "metadata": {
    "collapsed": true
   },
   "outputs": [],
   "source": []
  }
 ],
 "metadata": {
  "anaconda-cloud": {},
  "kernelspec": {
   "display_name": "Python [conda root]",
   "language": "python",
   "name": "conda-root-py"
  },
  "language_info": {
   "codemirror_mode": {
    "name": "ipython",
    "version": 2
   },
   "file_extension": ".py",
   "mimetype": "text/x-python",
   "name": "python",
   "nbconvert_exporter": "python",
   "pygments_lexer": "ipython2",
   "version": "2.7.12"
  }
 },
 "nbformat": 4,
 "nbformat_minor": 1
}
