{
 "cells": [
  {
   "cell_type": "code",
   "execution_count": 2,
   "metadata": {
    "collapsed": false
   },
   "outputs": [
    {
     "name": "stdout",
     "output_type": "stream",
     "text": [
      "Using matplotlib backend: MacOSX\n",
      "Populating the interactive namespace from numpy and matplotlib\n"
     ]
    }
   ],
   "source": [
    "%pylab\n",
    "import math\n",
    "import numpy as np\n",
    "from scipy import ndimage"
   ]
  },
  {
   "cell_type": "code",
   "execution_count": 59,
   "metadata": {
    "collapsed": false
   },
   "outputs": [
    {
     "name": "stdout",
     "output_type": "stream",
     "text": [
      "./lighthouse_RAW_noisy_sigma0.01.png.linear.mine.png (768, 512, 4)\n",
      "./lighthouse_RAW_noisy_sigma0.01.png.edgedirected.mine.png (768, 512, 4)\n",
      "./raw/signs-small.png.linear.mine.png (520, 426, 4)\n",
      "./raw/signs-small.png.edgedirected.mine.png (520, 426, 4)\n"
     ]
    }
   ],
   "source": [
    "files = [\n",
    "    './lighthouse_RAW_noisy_sigma0.01.png.linear.mine.png',\n",
    "    './lighthouse_RAW_noisy_sigma0.01.png.edgedirected.mine.png',\n",
    "    './raw/signs-small.png.linear.mine.png',\n",
    "    './raw/signs-small.png.edgedirected.mine.png'\n",
    "]\n",
    "\n",
    "def applyGamma(image, gamma = 1/2.2):\n",
    "    red = image[:, :, 0]\n",
    "    green = image[:, :, 1]\n",
    "    blue = image[:, :, 2]\n",
    "    gamma = 1 / 2.2\n",
    "\n",
    "    red = np.power(red, gamma)\n",
    "    green = np.power(green, gamma)\n",
    "    blue = np.power(blue, gamma)\n",
    "\n",
    "    result = np.empty(shape=(image.shape[0], image.shape[1], 3))\n",
    "    result[:, :, 0] = red\n",
    "    result[:, :, 1] = green\n",
    "    result[:, :, 2] = blue\n",
    "    \n",
    "    return result\n",
    "    \n",
    "\n",
    "for fileName in files:\n",
    "    image = imread(fileName)\n",
    "    print fileName, image.shape\n",
    "    imsave(fileName + '.g=2.2.png', applyGamma(image[:, :, :3]))\n"
   ]
  },
  {
   "cell_type": "code",
   "execution_count": null,
   "metadata": {
    "collapsed": true
   },
   "outputs": [],
   "source": []
  }
 ],
 "metadata": {
  "anaconda-cloud": {},
  "kernelspec": {
   "display_name": "Python [conda root]",
   "language": "python",
   "name": "conda-root-py"
  },
  "language_info": {
   "codemirror_mode": {
    "name": "ipython",
    "version": 2
   },
   "file_extension": ".py",
   "mimetype": "text/x-python",
   "name": "python",
   "nbconvert_exporter": "python",
   "pygments_lexer": "ipython2",
   "version": "2.7.12"
  }
 },
 "nbformat": 4,
 "nbformat_minor": 1
}
